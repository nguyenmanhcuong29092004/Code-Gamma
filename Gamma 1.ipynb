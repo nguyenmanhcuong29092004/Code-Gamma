{
 "cells": [
  {
   "cell_type": "code",
   "execution_count": 1,
   "id": "bc391cec",
   "metadata": {},
   "outputs": [],
   "source": [
    "import pandas as pd\n",
    "import matplotlib.pyplot as plt\n",
    "import seaborn as sns\n",
    "import numpy as np\n",
    "from sklearn.model_selection import KFold,train_test_split, cross_val_score,cross_val_predict\n",
    "from sklearn.linear_model import LogisticRegression\n",
    "from sklearn.metrics import accuracy_score\n",
    "from scipy.stats import norm\n",
    "from sklearn.feature_extraction.text import TfidfVectorizer\n",
    "from sklearn.preprocessing import LabelEncoder\n",
    "import matplotlib.pyplot as plt\n",
    "import nltk\n",
    "from nltk.corpus import stopwords\n",
    "from nltk.tokenize import word_tokenize"
   ]
  },
  {
   "cell_type": "code",
   "execution_count": 2,
   "id": "7dce8bcf",
   "metadata": {},
   "outputs": [
    {
     "name": "stdout",
     "output_type": "stream",
     "text": [
      "<class 'pandas.core.frame.DataFrame'>\n",
      "RangeIndex: 40000 entries, 0 to 39999\n",
      "Data columns (total 2 columns):\n",
      " #   Column  Non-Null Count  Dtype \n",
      "---  ------  --------------  ----- \n",
      " 0   text    40000 non-null  object\n",
      " 1   label   40000 non-null  int64 \n",
      "dtypes: int64(1), object(1)\n",
      "memory usage: 625.1+ KB\n"
     ]
    }
   ],
   "source": [
    "data = pd.read_csv('movie_reviews.csv')\n",
    "unlabeled_data = pd.read_csv('test_data.csv')\n",
    "data.info()"
   ]
  },
  {
   "cell_type": "code",
   "execution_count": 3,
   "id": "cceb4441",
   "metadata": {},
   "outputs": [
    {
     "data": {
      "text/html": [
       "<div>\n",
       "<style scoped>\n",
       "    .dataframe tbody tr th:only-of-type {\n",
       "        vertical-align: middle;\n",
       "    }\n",
       "\n",
       "    .dataframe tbody tr th {\n",
       "        vertical-align: top;\n",
       "    }\n",
       "\n",
       "    .dataframe thead th {\n",
       "        text-align: right;\n",
       "    }\n",
       "</style>\n",
       "<table border=\"1\" class=\"dataframe\">\n",
       "  <thead>\n",
       "    <tr style=\"text-align: right;\">\n",
       "      <th></th>\n",
       "      <th>text</th>\n",
       "      <th>label</th>\n",
       "    </tr>\n",
       "  </thead>\n",
       "  <tbody>\n",
       "    <tr>\n",
       "      <th>0</th>\n",
       "      <td>If you havent seen this movie than you need to...</td>\n",
       "      <td>1</td>\n",
       "    </tr>\n",
       "    <tr>\n",
       "      <th>1</th>\n",
       "      <td>but Cinderella gets my vote not only for the w...</td>\n",
       "      <td>0</td>\n",
       "    </tr>\n",
       "    <tr>\n",
       "      <th>2</th>\n",
       "      <td>This movie is pretty cheesy but I do give it c...</td>\n",
       "      <td>1</td>\n",
       "    </tr>\n",
       "    <tr>\n",
       "      <th>3</th>\n",
       "      <td>I have not seen a Van Damme flick for a while ...</td>\n",
       "      <td>1</td>\n",
       "    </tr>\n",
       "    <tr>\n",
       "      <th>4</th>\n",
       "      <td>This is a sleeper It defines Nicholas Cage The...</td>\n",
       "      <td>1</td>\n",
       "    </tr>\n",
       "    <tr>\n",
       "      <th>...</th>\n",
       "      <td>...</td>\n",
       "      <td>...</td>\n",
       "    </tr>\n",
       "    <tr>\n",
       "      <th>39995</th>\n",
       "      <td>This movie is inspiring to anyone who is or ha...</td>\n",
       "      <td>1</td>\n",
       "    </tr>\n",
       "    <tr>\n",
       "      <th>39996</th>\n",
       "      <td>This film hits the heart with a reality like n...</td>\n",
       "      <td>1</td>\n",
       "    </tr>\n",
       "    <tr>\n",
       "      <th>39997</th>\n",
       "      <td>East Side Story is a documentary of musical co...</td>\n",
       "      <td>1</td>\n",
       "    </tr>\n",
       "    <tr>\n",
       "      <th>39998</th>\n",
       "      <td>And a selfadmitted one to boot At one point th...</td>\n",
       "      <td>0</td>\n",
       "    </tr>\n",
       "    <tr>\n",
       "      <th>39999</th>\n",
       "      <td>This movie had horrible lighting and terrible ...</td>\n",
       "      <td>0</td>\n",
       "    </tr>\n",
       "  </tbody>\n",
       "</table>\n",
       "<p>40000 rows × 2 columns</p>\n",
       "</div>"
      ],
      "text/plain": [
       "                                                    text  label\n",
       "0      If you havent seen this movie than you need to...      1\n",
       "1      but Cinderella gets my vote not only for the w...      0\n",
       "2      This movie is pretty cheesy but I do give it c...      1\n",
       "3      I have not seen a Van Damme flick for a while ...      1\n",
       "4      This is a sleeper It defines Nicholas Cage The...      1\n",
       "...                                                  ...    ...\n",
       "39995  This movie is inspiring to anyone who is or ha...      1\n",
       "39996  This film hits the heart with a reality like n...      1\n",
       "39997  East Side Story is a documentary of musical co...      1\n",
       "39998  And a selfadmitted one to boot At one point th...      0\n",
       "39999  This movie had horrible lighting and terrible ...      0\n",
       "\n",
       "[40000 rows x 2 columns]"
      ]
     },
     "execution_count": 3,
     "metadata": {},
     "output_type": "execute_result"
    }
   ],
   "source": [
    "data"
   ]
  },
  {
   "cell_type": "code",
   "execution_count": 4,
   "id": "879a55a0",
   "metadata": {},
   "outputs": [
    {
     "data": {
      "text/plain": [
       "<Axes: >"
      ]
     },
     "execution_count": 4,
     "metadata": {},
     "output_type": "execute_result"
    },
    {
     "data": {
      "image/png": "[encoded data removed]",
      "text/plain": [
       "<Figure size 640x480 with 1 Axes>"
      ]
     },
     "metadata": {},
     "output_type": "display_data"
    }
   ],
   "source": [
    "data['label'].value_counts().plot(kind = 'bar')"
   ]
  },
  {
   "cell_type": "code",
   "execution_count": 5,
   "id": "01c8da1b",
   "metadata": {},
   "outputs": [
    {
     "data": {
      "text/plain": [
       "0        1\n",
       "2        1\n",
       "3        1\n",
       "4        1\n",
       "7        1\n",
       "        ..\n",
       "39992    1\n",
       "39993    1\n",
       "39995    1\n",
       "39996    1\n",
       "39997    1\n",
       "Name: label, Length: 19951, dtype: int64"
      ]
     },
     "execution_count": 5,
     "metadata": {},
     "output_type": "execute_result"
    }
   ],
   "source": [
    "data['label'].loc[data['label']==1]"
   ]
  },
  {
   "cell_type": "code",
   "execution_count": null,
   "id": "204de941",
   "metadata": {},
   "outputs": [],
   "source": []
  },
  {
   "cell_type": "code",
   "execution_count": 6,
   "id": "b24b7f54",
   "metadata": {},
   "outputs": [],
   "source": [
    "def preprocess_data(data, max_features=5000, random_state=42):\n",
    "    \"\"\"\n",
    "    Tiền xử lý dữ liệu đánh giá phim cho mô hình máy học.\n",
    "\n",
    "    Parameters:\n",
    "    - data (DataFrame): Dữ liệu đánh giá phim, chứa các cột 'text' và 'label'.\n",
    "    - max_features (int, optional): Số lượng từ vựng tối đa được giữ lại khi chuyển đổi văn bản.\n",
    "      Mặc định là 5000.\n",
    "    - random_state (int, optional): Seed để giữ nguyên sự ngẫu nhiên khi chia dữ liệu thành tập huấn luyện và tập kiểm thử.\n",
    "      Mặc định là 42.\n",
    "\n",
    "    Returns:\n",
    "    - X_train (sparse matrix): Ma trận TF-IDF của văn bản trong tập huấn luyện.\n",
    "    - y_train (Series): Nhãn của tập huấn luyện.\n",
    "    - X_test (sparse matrix): Ma trận TF-IDF của văn bản trong tập kiểm thử.\n",
    "    - y_test (Series): Nhãn của tập kiểm thử.\n",
    "    \"\"\"\n",
    "    # Chia dữ liệu thành tập huấn luyện và tập kiểm thử\n",
    "    train_data, test_data = train_test_split(data, test_size=0.2, random_state=random_state)\n",
    "\n",
    "    # Xử lý nhãn\n",
    "    label_encoder = LabelEncoder()\n",
    "    train_data['label'] = label_encoder.fit_transform(train_data['label'])\n",
    "    test_data['label'] = label_encoder.transform(test_data['label'])\n",
    "\n",
    "    # Xử lý văn bản\n",
    "    tfidf_vectorizer = TfidfVectorizer(max_features=max_features, stop_words='english')\n",
    "    X_train = tfidf_vectorizer.fit_transform(train_data['text'])\n",
    "    X_test = tfidf_vectorizer.transform(test_data['text'])\n",
    "\n",
    "    return X_train, train_data['label'], X_test, test_data['label']\n"
   ]
  },
  {
   "cell_type": "code",
   "execution_count": 7,
   "id": "ecb7ad75",
   "metadata": {},
   "outputs": [],
   "source": [
    "def evaluate_accuracy(model, X, y, cv=5):\n",
    "    \"\"\"\n",
    "    Đánh giá accuracy của mô hình sử dụng kỹ thuật cross-validation.\n",
    "\n",
    "    Parameters:\n",
    "    - model: Mô hình đã được huấn luyện.\n",
    "    - X (sparse matrix): Ma trận đặc trưng.\n",
    "    - y (array-like): Nhãn tương ứng.\n",
    "    - cv (int, optional): Số lượng chia mảnh (folds) trong cross-validation. Mặc định là 5.\n",
    "\n",
    "    Returns:\n",
    "    - accuracy_scores (list): Danh sách các điểm accuracy cho mỗi mảnh trong cross-validation.\n",
    "    \"\"\"\n",
    "    accuracy_scores = cross_val_score(model, X, y, cv=cv, scoring='accuracy')\n",
    "    return accuracy_scores"
   ]
  },
  {
   "cell_type": "code",
   "execution_count": 8,
   "id": "2ed52621",
   "metadata": {},
   "outputs": [
    {
     "name": "stdout",
     "output_type": "stream",
     "text": [
      "Accuracy Scores: [0.8896875  0.8825     0.8846875  0.88078125 0.881875  ]\n",
      "Mean Accuracy: 0.8839062500000001\n"
     ]
    }
   ],
   "source": [
    "# Tiền xử lý dữ liệu\n",
    "X_train, y_train, _, _ = preprocess_data(data)\n",
    "\n",
    "# Huấn luyện mô hình Logistic Regression\n",
    "model_logistic = LogisticRegression(class_weight = 'balanced',max_iter = 1000)\n",
    "model_logistic.fit(X_train, y_train)\n",
    "\n",
    "# Đánh giá accuracy sử dụng cross-validation\n",
    "accuracy_scores = evaluate_accuracy(model_logistic, X_train, y_train)\n",
    "\n",
    "# In kết quả cross-validation\n",
    "print(f'Accuracy Scores: {accuracy_scores}')\n",
    "print(f'Mean Accuracy: {accuracy_scores.mean()}')"
   ]
  },
  {
   "cell_type": "code",
   "execution_count": null,
   "id": "2a872abd",
   "metadata": {},
   "outputs": [],
   "source": []
  },
  {
   "cell_type": "code",
   "execution_count": null,
   "id": "2c3a74de",
   "metadata": {},
   "outputs": [],
   "source": []
  },
  {
   "cell_type": "code",
   "execution_count": null,
   "id": "66008702",
   "metadata": {},
   "outputs": [],
   "source": []
  },
  {
   "cell_type": "code",
   "execution_count": null,
   "id": "acf6f402",
   "metadata": {},
   "outputs": [],
   "source": []
  },
  {
   "cell_type": "code",
   "execution_count": null,
   "id": "8541a812",
   "metadata": {},
   "outputs": [],
   "source": []
  },
  {
   "cell_type": "code",
   "execution_count": null,
   "id": "7d43afc1",
   "metadata": {},
   "outputs": [],
   "source": []
  },
  {
   "cell_type": "code",
   "execution_count": null,
   "id": "268381fc",
   "metadata": {},
   "outputs": [],
   "source": []
  },
  {
   "cell_type": "code",
   "execution_count": null,
   "id": "feca81dc",
   "metadata": {},
   "outputs": [],
   "source": []
  },
  {
   "cell_type": "code",
   "execution_count": null,
   "id": "5a0f3cea",
   "metadata": {},
   "outputs": [],
   "source": []
  },
  {
   "cell_type": "code",
   "execution_count": null,
   "id": "153afa7f",
   "metadata": {},
   "outputs": [],
   "source": []
  }
 ],
 "metadata": {
  "kernelspec": {
   "display_name": "Python 3 (ipykernel)",
   "language": "python",
   "name": "python3"
  },
  "language_info": {
   "codemirror_mode": {
    "name": "ipython",
    "version": 3
   },
   "file_extension": ".py",
   "mimetype": "text/x-python",
   "name": "python",
   "nbconvert_exporter": "python",
   "pygments_lexer": "ipython3",
   "version": "3.10.10"
  }
 },
 "nbformat": 4,
 "nbformat_minor": 5
}
